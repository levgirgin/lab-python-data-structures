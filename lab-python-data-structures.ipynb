{
 "cells": [
  {
   "cell_type": "markdown",
   "metadata": {
    "tags": []
   },
   "source": [
    "# Lab | Data Structures "
   ]
  },
  {
   "cell_type": "markdown",
   "metadata": {},
   "source": [
    "## Exercise: Managing Customer Orders\n",
    "\n",
    "As part of a business venture, you are starting an online store that sells various products. To ensure smooth operations, you need to develop a program that manages customer orders and inventory.\n",
    "\n",
    "Follow the steps below to complete the exercise:\n",
    "\n",
    "1. Define a list called `products` that contains the following items: \"t-shirt\", \"mug\", \"hat\", \"book\", \"keychain\".\n",
    "\n",
    "2. Create an empty dictionary called `inventory`.\n",
    "\n",
    "3. Ask the user to input the quantity of each product available in the inventory. Use the product names from the `products` list as keys in the `inventory` dictionary and assign the respective quantities as values.\n",
    "\n",
    "4. Create an empty set called `customer_orders`.\n",
    "\n",
    "5. Ask the user to input the name of three products that a customer wants to order (from those in the products list, meaning three products out of \"t-shirt\", \"mug\", \"hat\", \"book\" or \"keychain\". Add each product name to the `customer_orders` set.\n",
    "\n",
    "6. Print the products in the `customer_orders` set.\n",
    "\n",
    "7. Calculate the following order statistics:\n",
    "   - Total Products Ordered: The total number of products in the `customer_orders` set.\n",
    "   - Percentage of Products Ordered: The percentage of products ordered compared to the total available products.\n",
    "   \n",
    "   Store these statistics in a tuple called `order_status`.\n",
    "\n",
    "8. Print the order statistics using the following format:\n",
    "   ```\n",
    "   Order Statistics:\n",
    "   Total Products Ordered: <total_products_ordered>\n",
    "   Percentage of Products Ordered: <percentage_ordered>% \n",
    "   ```\n",
    "\n",
    "9. Update the inventory by subtracting 1 from the quantity of each product. Modify the `inventory` dictionary accordingly.\n",
    "\n",
    "10. Print the updated inventory, displaying the quantity of each product on separate lines.\n",
    "\n",
    "Solve the exercise by implementing the steps using the Python concepts of lists, dictionaries, sets, and basic input/output operations. "
   ]
  },
  {
   "cell_type": "code",
   "execution_count": 4,
   "metadata": {},
   "outputs": [
    {
     "name": "stdout",
     "output_type": "stream",
     "text": [
      "{'t-shirt': 5, 'mug': 5, 'hat': 5, 'book': 5, 'keychain': 5}\n",
      "New orders are as follows: {'hat', 'book', 'mug'}\n",
      "Order Statistics:\n",
      "Total Products Ordered: 3\n",
      "Percentage of Products Ordered: 60.0 %\n",
      "Updated Inventory:\n",
      "Amount of t-shirts in the inventory: 5\n",
      "Amount of mugs in the inventory: 4\n",
      "Amount of hats in the inventory: 4\n",
      "Amount of books in the inventory: 4\n",
      "Amount of keychains in the inventory: 5\n"
     ]
    }
   ],
   "source": [
    "# Define a list\n",
    "products = [\"t-shirt\", \"mug\", \"hat\", \"book\", \"keychain\"]\n",
    "# Create empty dictionary\n",
    "inventory = {}\n",
    "# Ask for input for each product\n",
    "inventory[\"t-shirt\"] = int(input(\"Enter the quantity of the t-shirt: \"))\n",
    "inventory[\"mug\"] = int(input(\"Enter the quantity of the mug: \"))\n",
    "inventory[\"hat\"] = int(input(\"Enter the quantity of the hat: \"))\n",
    "inventory[\"book\"] = int(input(\"Enter the quantity of the book: \"))\n",
    "inventory[\"keychain\"] = int(input(\"Enter the quantity of the keychain: \"))\n",
    "\n",
    "print(inventory)\n",
    "# Empty set \n",
    "customer_orders = set()\n",
    "\n",
    "# Three products orders from the customer\n",
    "order_1 = input(\"Enter product 1: \").strip().lower()\n",
    "order_2 = input(\"Enter product 2: \").strip().lower()\n",
    "order_3 = input(\"Enter product 3: \").strip().lower()\n",
    "\n",
    "# validation\n",
    "if order_1 in products: \n",
    "    customer_orders.add(order_1)\n",
    "if order_2 in products:\n",
    "    customer_orders.add(order_2)\n",
    "if order_3 in products:\n",
    "    customer_orders.add(order_3)\n",
    "\n",
    "# Print orders\n",
    "print(f\"New orders are as follows: {customer_orders}\")\n",
    "\n",
    "# Calculate order statistics\n",
    "total_products_ordered = len(customer_orders)\n",
    "percentage_ordered = (total_products_ordered / len(products)) * 100\n",
    "order_status= (total_products_ordered, percentage_ordered)\n",
    "\n",
    "# Print statistics\n",
    "print(\"Order Statistics:\")\n",
    "print(f\"Total Products Ordered: {order_status[0]}\")\n",
    "print(f\"Percentage of Products Ordered: {order_status[1]} %\")\n",
    "\n",
    "#Update inventory\n",
    "if \"t-shirt\" in customer_orders and inventory[\"t-shirt\"] > 0:\n",
    "    inventory[\"t-shirt\"] -= 1\n",
    "if \"mug\" in customer_orders and inventory[\"mug\"] > 0:\n",
    "    inventory[\"mug\"] -= 1\n",
    "if \"hat\" in customer_orders and inventory[\"hat\"] > 0:\n",
    "    inventory[\"hat\"] -= 1\n",
    "if \"book\" in customer_orders and inventory[\"book\"] > 0:\n",
    "    inventory[\"book\"] -= 1\n",
    "if \"keychain\" in customer_orders and inventory[\"keychain\"] > 0:\n",
    "    inventory[\"keychain\"] -= 1\n",
    "\n",
    "# Print inventory\n",
    "print(\"Updated Inventory:\")\n",
    "print(f\"Amount of t-shirts in the inventory: {inventory['t-shirt']}\")\n",
    "print(f\"Amount of mugs in the inventory: {inventory['mug']}\")\n",
    "print(f\"Amount of hats in the inventory: {inventory['hat']}\")\n",
    "print(f\"Amount of books in the inventory: {inventory['book']}\")\n",
    "print(f\"Amount of keychains in the inventory: {inventory['keychain']}\")"
   ]
  }
 ],
 "metadata": {
  "kernelspec": {
   "display_name": "base",
   "language": "python",
   "name": "python3"
  },
  "language_info": {
   "codemirror_mode": {
    "name": "ipython",
    "version": 3
   },
   "file_extension": ".py",
   "mimetype": "text/x-python",
   "name": "python",
   "nbconvert_exporter": "python",
   "pygments_lexer": "ipython3",
   "version": "3.11.7"
  }
 },
 "nbformat": 4,
 "nbformat_minor": 4
}
